{
 "cells": [
  {
   "cell_type": "markdown",
   "id": "51a1a614-e130-4d0a-a839-a67955f8d20e",
   "metadata": {},
   "source": [
    "![Header.jpeg](banner_sr.jpg)"
   ]
  },
  {
   "cell_type": "markdown",
   "id": "f2b6e41b-63a5-478e-82bf-d2ca34f0d69c",
   "metadata": {},
   "source": [
    "# Subtitle Generator Project Using Speech Recognition\n",
    "\n",
    "---"
   ]
  },
  {
   "cell_type": "markdown",
   "id": "708101a7-2273-42e5-953f-3bfbb78d4f4a",
   "metadata": {},
   "source": [
    "#### Import Library"
   ]
  },
  {
   "cell_type": "code",
   "execution_count": 16,
   "id": "ce45c89a-fc5d-45a0-bac8-313fc4259252",
   "metadata": {},
   "outputs": [],
   "source": [
    "import speech_recognition as sr\n",
    "from pydub import AudioSegment, silence\n",
    "import srt\n",
    "import datetime"
   ]
  },
  {
   "cell_type": "markdown",
   "id": "1c041eaf-3ad6-43b2-b704-daeaabf90fde",
   "metadata": {},
   "source": [
    "#### Import Audio"
   ]
  },
  {
   "cell_type": "code",
   "execution_count": 17,
   "id": "bada8b62-6dfd-48b4-b5c9-5dfb1c6a12bd",
   "metadata": {},
   "outputs": [],
   "source": [
    "audio_file_path = \"audio_source_3.wav\"\n",
    "audio_segment = AudioSegment.from_wav(audio_file_path)"
   ]
  },
  {
   "cell_type": "markdown",
   "id": "0869b0cf-5ca4-49e6-8380-a0c0e073f252",
   "metadata": {},
   "source": [
    "#### Audio Segmentation"
   ]
  },
  {
   "cell_type": "code",
   "execution_count": null,
   "id": "1f52e605-96e4-4129-bacb-419b986fa584",
   "metadata": {},
   "outputs": [],
   "source": [
    "voice_segments = silence.detect_nonsilent(audio_segment, min_silence_len=300, silence_thresh=-40)\n",
    "voice_segments = [(int(start / 1000), int(end / 1000)) for start, end in voice_segments]"
   ]
  },
  {
   "cell_type": "code",
   "execution_count": 19,
   "id": "cfc67f90-7758-4c20-bd1b-75194a56414c",
   "metadata": {},
   "outputs": [],
   "source": [
    "merged_segments = []\n",
    "skip_indices = set()"
   ]
  },
  {
   "cell_type": "code",
   "execution_count": 20,
   "id": "c2ef0da3-cb3e-43c8-bc4b-5c494c865181",
   "metadata": {},
   "outputs": [],
   "source": [
    "for i, (start, end) in enumerate(voice_segments):\n",
    "    if i in skip_indices:\n",
    "        continue\n",
    "\n",
    "    duration = end - start\n",
    "    if duration < 3 and i + 1 < len(voice_segments):\n",
    "        next_end = voice_segments[i + 1][1]\n",
    "        merged_segments.append((start, next_end))\n",
    "        skip_indices.add(i + 1)\n",
    "    else:\n",
    "        merged_segments.append((start, end))"
   ]
  },
  {
   "cell_type": "code",
   "execution_count": 21,
   "id": "3376a757-4d2a-4f37-b7b7-318721388363",
   "metadata": {},
   "outputs": [],
   "source": [
    "recognizer = sr.Recognizer()\n",
    "subtitles = []"
   ]
  },
  {
   "cell_type": "code",
   "execution_count": null,
   "id": "343677e2-3a5c-46b0-af97-70244e945d55",
   "metadata": {},
   "outputs": [
    {
     "name": "stdout",
     "output_type": "stream",
     "text": [
      "Subtitle 1...\n",
      "Subtitle 2 berhasil: Halo teman-teman selamat datang di mata kuliah praktikum bulan\n",
      "Subtitle 3 berhasil: universitas\n",
      "Subtitle 4 berhasil: pada pertemuan ini\n",
      "Subtitle 5 berhasil: akan membahas tentang analisis univariat bivariat dan juga\n",
      "Subtitle 6...\n",
      "Subtitle 7 berhasil: mari kita mulai dengan analisis univariat\n",
      "Subtitle 8 berhasil: Analisis univariat adalah analisis\n",
      "Subtitle 9 berhasil: yang melibatkan hanya satu variabel\n",
      "Subtitle 10 berhasil: tujuan dari analisis ini adalah untuk mendefinisikan\n",
      "Subtitle 11 berhasil: ringkasnya\n",
      "Subtitle 12 berhasil: dan menganalisis pola yang ada di dalamnya beberapa pola yang bisa diidentifikasi dari analisis ini diantaranya\n",
      "Subtitle 13 berhasil: adalah rata-rata modus median\n",
      "Subtitle 14 berhasil: varians kuartil dan juga simpangan\n",
      "Subtitle 15 berhasil: analisis UNY\n",
      "Subtitle 16 berhasil: ini juga bisa digunakan untuk dua tipe variabel pertama variabel numerik yang grafiknya dapat berupa histo\n",
      "Subtitle 17 berhasil: dan boxplot\n",
      "Subtitle 18 berhasil: variabel kategori\n",
      "Subtitle 19 berhasil: grafiknya dapat berupa barchart dan juga pacar\n",
      "Subtitle 20 berhasil: kemudian kita masuk ke dalam analisis univariat untuk variabel numerik\n",
      "Subtitle 21 berhasil: bisa kita lihat di samping terdapat\n",
      "Subtitle 22 berhasil: arti program dari distribusi data pada kolom\n",
      "Subtitle 23 berhasil: umur umumnya histogram ini digunakan pada data numerik yang\n",
      "Subtitle 24 berhasil: sifat kontinu sehingga batang-batang pada histogram nya\n",
      "Subtitle 25 berhasil: dapat menunjukkan sebuah pola pada data dari histogram di samping dapat\n",
      "Subtitle 26 berhasil: bahwa atribut usia ini tidak simetris atribut usia yang tidak simetris ini memiliki\n",
      "Subtitle 27 berhasil: distribusi yang miring ke kanan namun setelah dianalisa\n",
      "Subtitle 28 berhasil: hal ini adalah hal yang wajar karena orang dewasa yang lebih muda cenderung\n",
      "Subtitle 29 berhasil: lebih banyak bekerja dan mendapatkan upah dibandingkan yang lebih tua\n",
      "Subtitle 30 berhasil: lalu ini untuk blog\n",
      "Subtitle 31 berhasil: bisa kita lihat di sini terdapat box plot dari jumlah jam kerja per minggu\n",
      "Subtitle 32 berhasil: plot ini dapat kita gunakan untuk mendapatkan ringkasan dari\n",
      "Subtitle 33 berhasil: data ataupun variabel seperti nilai minimumnya\n",
      "Subtitle 34 berhasil: kuartil pertamanya median kuartil\n",
      "Subtitle 35 berhasil: dan juga nilai maksimum dari boxplot di samping dapat kita ketahui\n",
      "Subtitle 36 berhasil: mayoritas orang bekerja sekitar 40 jam per minggu\n",
      "Subtitle 37 berhasil: dengan distribusi dengan distribusi yang simetris di sekitar angka tersebut terdapat juga\n",
      "Subtitle 38 berhasil: layar atau pencilan dari orang-orang yang bekerja jauh lebih sedikit atau lebih banyak\n",
      "Subtitle 39 berhasil: 40 jam hal ini menunjukkan\n",
      "Subtitle 40 berhasil: adanya variasi dalam jumlah jam kerja mingguan\n",
      "Subtitle 41 berhasil: lalu kita masuk ke dalam analisis\n",
      "Subtitle 42 berhasil: univariat untuk tipe variabel kategori di sini contohnya merupakan barcat dari distribusi level pendapatan\n",
      "Subtitle 43 berhasil: bakar atau grafik batang ini umumnya memiliki jarak yang jauh\n",
      "Subtitle 44 berhasil: arah setiap batangnya hal ini menunjukkan bahwa datanya tidak kontinu\n",
      "Subtitle 45 berhasil: kualitatif ataupun categorical dari grafik batang di samping\n",
      "Subtitle 46 berhasil: kita ketahui bahwa data set yang dipakai tidak seimbang\n",
      "Subtitle 47 berhasil: terdapat 23,93% kelompok yang termasuk\n",
      "Subtitle 48 berhasil: dalam kelompok yang berpenghasilan lebih dari 50000 dolar dan\n",
      "Subtitle 49 berhasil: 6% lainnya termasuk dalam kelompok pendapatan yang ber penghasilan kurang dari\n",
      "Subtitle 50 berhasil: atau kurang dari dan sama dengan 50000 dolar\n",
      "Subtitle 51 berhasil: lalu kita masuk ke dalam pa\n",
      "Subtitle 52 berhasil: analisis univariat ini variabel\n",
      "Subtitle 53 berhasil: kategori bisa kita lihat pacar di sini menunjukkan\n",
      "Subtitle 54 berhasil: dari jenis kelamin\n",
      "Subtitle 55 berhasil: ini\n",
      "Subtitle 56 berhasil: salah satu jenis grafik yang populer meski\n",
      "Subtitle 57 berhasil: seringkali dapat menjadi peran efektif dan jelas dalam menyampaikan data yang memiliki banyak\n",
      "Subtitle 58 berhasil: dari pajak di samping dapat kita ketahui\n",
      "Subtitle 59 berhasil: kelamin laki-laki dapat dikategorikan atau tergolong sebagai\n",
      "Subtitle 60 berhasil: mayoritas atau yang jumlahnya paling banyak pada dataset yang kita pakai\n",
      "Subtitle 61 berhasil: kemudian kita lanjut ke analisis bivariat\n",
      "Subtitle 62 berhasil: posisi ini melibatkan dua variabel Salah satu tujuan dari analisis ini untuk mengetahui seberapa\n",
      "Subtitle 63 berhasil: variabel-variabel saling berkorelasi\n",
      "Subtitle 64 berhasil: analisis bivariat dapat digunakan pada variabel\n",
      "Subtitle 65 berhasil: variabel categorical variabel numerik dan juga categorical\n",
      "Subtitle 66 berhasil: untuk variabel numerik bisa kita\n",
      "Subtitle 67 berhasil: di sini adalah center volt scatter plot ini menampilkan hubungan di variabel antara dua variabel\n",
      "Subtitle 68 berhasil: atau hubungan multivariat diantara banyak Varia\n",
      "Subtitle 69 berhasil: oleh karenanya\n",
      "Subtitle 70 berhasil: cocok digunakan dan juga multivariat\n",
      "Subtitle 71 berhasil: Kemudian untuk variabel categorical\n",
      "Subtitle 72 berhasil: kita lihat daftar dari distribusi level pendapatan yang dibagi 4\n",
      "Subtitle 73 berhasil: bisa kita lihat dari grafik batang di samping\n",
      "Subtitle 74 berhasil: adanya kesenjangan gender yang signifikan dalam tingkat pendapatan\n",
      "Subtitle 75 berhasil: dapat disimpulkan bahwa laki-laki berkontraksi dan lebih tinggi dibandingkan dengan perempuan\n",
      "Subtitle 76 berhasil: lalu untuk analisis\n"
     ]
    }
   ],
   "source": [
    "with sr.AudioFile(audio_file_path) as audio_source:\n",
    "    for idx, (start_sec, end_sec) in enumerate(merged_segments):\n",
    "        duration = end_sec - start_sec\n",
    "        audio_source_offset = start_sec\n",
    "        try:\n",
    "            audio_data = recognizer.record(audio_source, duration=duration)\n",
    "            recognized_text = recognizer.recognize_google(audio_data, language=\"id-ID\")\n",
    "\n",
    "            subtitle = srt.Subtitle(\n",
    "                index=idx + 1,\n",
    "                start=datetime.timedelta(seconds=start_sec),\n",
    "                end=datetime.timedelta(seconds=end_sec),\n",
    "                content=recognized_text\n",
    "            )\n",
    "            subtitles.append(subtitle)\n",
    "            print(f\"Subtitle Line {idx + 1}: {recognized_text}\")\n",
    "        except sr.UnknownValueError:\n",
    "            print(f\"Subtitle {idx + 1} ...\")\n",
    "        except Exception as e:\n",
    "            print(f\"Segment Error {idx + 1}: {e}\")"
   ]
  },
  {
   "cell_type": "markdown",
   "id": "29b84fb6-0fc1-409e-904a-e341005dd3a6",
   "metadata": {},
   "source": [
    "##### Write Subtitle"
   ]
  },
  {
   "cell_type": "code",
   "execution_count": 23,
   "id": "1847e2df-caa8-48ef-b4b7-2d4bd679eddb",
   "metadata": {},
   "outputs": [],
   "source": [
    "with open(\"output_subtitle.srt\", \"w\", encoding=\"utf-8\") as subtitle_file:\n",
    "    subtitle_file.write(srt.compose(subtitles))"
   ]
  }
 ],
 "metadata": {
  "kernelspec": {
   "display_name": "Python 3 (ipykernel)",
   "language": "python",
   "name": "python3"
  },
  "language_info": {
   "codemirror_mode": {
    "name": "ipython",
    "version": 3
   },
   "file_extension": ".py",
   "mimetype": "text/x-python",
   "name": "python",
   "nbconvert_exporter": "python",
   "pygments_lexer": "ipython3",
   "version": "3.11.4"
  }
 },
 "nbformat": 4,
 "nbformat_minor": 5
}
