{
 "cells": [
  {
   "cell_type": "code",
   "execution_count": 1,
   "id": "2a986b9e-130c-4e0d-83bb-660883033ec3",
   "metadata": {},
   "outputs": [],
   "source": [
    "# import speech_recognition as sr\n",
    "# import pydub\n",
    "# import srt\n",
    "# import datetime as dt"
   ]
  },
  {
   "cell_type": "code",
   "execution_count": 2,
   "id": "71df5646-4d8e-47b2-8202-90e6530065e4",
   "metadata": {},
   "outputs": [],
   "source": [
    "# audio = intro = pydub.AudioSegment.from_wav('')\n",
    "# talk = pydub.silence.detect_nonsilent(audio, min_silence_len=300, silence_thresh=-35)\n",
    "# talk = [(int(start/1000), int(stop/1000)) for start, stop in talk]"
   ]
  },
  {
   "cell_type": "code",
   "execution_count": 3,
   "id": "fbce374b-a943-4b4c-9f32-cb72ae58b154",
   "metadata": {},
   "outputs": [],
   "source": [
    "# print(talk)"
   ]
  },
  {
   "cell_type": "code",
   "execution_count": 4,
   "id": "a73b32c7-e5aa-4a23-937f-77ca805ad12d",
   "metadata": {},
   "outputs": [],
   "source": [
    "# talk_clean = []\n",
    "# skip = []\n",
    "# for idx, val in enumerate(talk):\n",
    "#     if idx not in skip:\n",
    "#         if val[1]-val[0] < 3:\n",
    "#             try:\n",
    "#                 talk_clean.append((val[0], talk[idx+1][1]))\n",
    "#                 skip.append(idx+1)\n",
    "#             except:\n",
    "#                 talk_clean.append(val)\n",
    "#         else:\n",
    "#             talk_clean.append(val)"
   ]
  },
  {
   "cell_type": "code",
   "execution_count": 5,
   "id": "8a93a32c-3281-4486-8db2-0e3a7cb4c476",
   "metadata": {},
   "outputs": [],
   "source": [
    "# print(talk_clean)"
   ]
  },
  {
   "cell_type": "code",
   "execution_count": 6,
   "id": "441cf956-5c46-419c-81bc-4596d92a292c",
   "metadata": {},
   "outputs": [],
   "source": [
    "# engine = sr.Recognizer()\n",
    "# subs = []\n",
    "# timer = 0\n",
    "\n",
    "# with sr.AudioFile('') as source:\n",
    "#     for i, v in enumerate(talk_clean):\n",
    "#         audiotext = engine.record(source, duration=v[1]-timer)\n",
    "#     try:\n",
    "#         word = engine.recognize_google(audiotext, language = \"id-ID\")\n",
    "#         subs.append(srt.Subtitle(index=(i+1), start=dt.timedelta(seconds=v[0]), end=dt.timedelta(seconds=v[1]), content=word))\n",
    "#         timer += (v[1]-timer)\n",
    "#         print(v[1])\n",
    "#     except sr.UnknownValueError:\n",
    "#         print(\"Voice not detected\")\n",
    "#     except Exception as e:\n",
    "#         print(e)"
   ]
  },
  {
   "cell_type": "code",
   "execution_count": 7,
   "id": "0bb98676-bccd-42e2-af0b-92fd3f6eed37",
   "metadata": {},
   "outputs": [],
   "source": [
    "# filesub = open(\"subtitle.srt\", \"w\")\n",
    "# filesub.write(srt.compose(subs))\n",
    "# filesub.close()"
   ]
  },
  {
   "cell_type": "code",
   "execution_count": 8,
   "id": "ce45c89a-fc5d-45a0-bac8-313fc4259252",
   "metadata": {},
   "outputs": [
    {
     "name": "stderr",
     "output_type": "stream",
     "text": [
      "C:\\Users\\Wicaksono Hanif\\AppData\\Local\\Programs\\Python\\Python311\\Lib\\site-packages\\pydub\\utils.py:170: RuntimeWarning: Couldn't find ffmpeg or avconv - defaulting to ffmpeg, but may not work\n",
      "  warn(\"Couldn't find ffmpeg or avconv - defaulting to ffmpeg, but may not work\", RuntimeWarning)\n"
     ]
    }
   ],
   "source": [
    "import speech_recognition as sr\n",
    "from pydub import AudioSegment, silence\n",
    "import srt\n",
    "import datetime"
   ]
  },
  {
   "cell_type": "code",
   "execution_count": 9,
   "id": "bada8b62-6dfd-48b4-b5c9-5dfb1c6a12bd",
   "metadata": {},
   "outputs": [],
   "source": [
    "audio_file_path = \"audio_source.wav\"\n",
    "audio_segment = AudioSegment.from_wav(audio_file_path)"
   ]
  },
  {
   "cell_type": "code",
   "execution_count": 10,
   "id": "1f52e605-96e4-4129-bacb-419b986fa584",
   "metadata": {},
   "outputs": [],
   "source": [
    "voice_segments = silence.detect_nonsilent(audio_segment, min_silence_len=300, silence_thresh=-35)\n",
    "voice_segments = [(int(start / 1000), int(end / 1000)) for start, end in voice_segments]"
   ]
  },
  {
   "cell_type": "code",
   "execution_count": 11,
   "id": "cfc67f90-7758-4c20-bd1b-75194a56414c",
   "metadata": {},
   "outputs": [],
   "source": [
    "merged_segments = []\n",
    "skip_indices = set()"
   ]
  },
  {
   "cell_type": "code",
   "execution_count": 12,
   "id": "c2ef0da3-cb3e-43c8-bc4b-5c494c865181",
   "metadata": {},
   "outputs": [],
   "source": [
    "for i, (start, end) in enumerate(voice_segments):\n",
    "    if i in skip_indices:\n",
    "        continue\n",
    "\n",
    "    duration = end - start\n",
    "    if duration < 3 and i + 1 < len(voice_segments):\n",
    "        next_end = voice_segments[i + 1][1]\n",
    "        merged_segments.append((start, next_end))\n",
    "        skip_indices.add(i + 1)\n",
    "    else:\n",
    "        merged_segments.append((start, end))"
   ]
  },
  {
   "cell_type": "code",
   "execution_count": 13,
   "id": "3376a757-4d2a-4f37-b7b7-318721388363",
   "metadata": {},
   "outputs": [],
   "source": [
    "recognizer = sr.Recognizer()\n",
    "subtitles = []"
   ]
  },
  {
   "cell_type": "code",
   "execution_count": 14,
   "id": "343677e2-3a5c-46b0-af97-70244e945d55",
   "metadata": {},
   "outputs": [
    {
     "name": "stdout",
     "output_type": "stream",
     "text": [
      "Subtitle 1 tidak dapat dikenali (kosong atau noise)\n",
      "Subtitle 2 tidak dapat dikenali (kosong atau noise)\n",
      "Subtitle 3 tidak dapat dikenali (kosong atau noise)\n",
      "Subtitle 4 berhasil: teman selamat datang di mata kuliah praktikum\n",
      "Subtitle 5 berhasil: Universitas Gunadarma\n",
      "Subtitle 6 berhasil: pada video kali ini\n",
      "Subtitle 7 berhasil: akan dibahas cara melakukan convert file ipmb menjadi file PDF\n",
      "Subtitle 8 berhasil: pertama-tama\n",
      "Subtitle 9 berhasil: ipmb yang akan di convert kemudian tekan\n",
      "Subtitle 10 berhasil: kontrol P pada Windows\n",
      "Subtitle 11 berhasil: untuk pengguna Mac OS\n",
      "Subtitle 12 berhasil: gunakan command + P setelah\n",
      "Subtitle 13 berhasil: pada bagian destination\n",
      "Subtitle 14 berhasil: teman-teman bisa pilih untuk menyimpan\n",
      "Subtitle 15 berhasil: gay PDF atau save as PDF\n",
      "Subtitle 16 berhasil: kemudian\n",
      "Subtitle 17 berhasil: Giant more settings teman-teman bisa Klik terlebih dahulu\n",
      "Subtitle 18 berhasil: di sini terdapat option untuk headers and footers di sini di sini teman-teman bisa\n",
      "Subtitle 19 berhasil: centang op\n",
      "Subtitle 20 berhasil: bagian ini kemudian klik\n",
      "Subtitle 21 tidak dapat dikenali (kosong atau noise)\n"
     ]
    }
   ],
   "source": [
    "with sr.AudioFile(audio_file_path) as audio_source:\n",
    "    for idx, (start_sec, end_sec) in enumerate(merged_segments):\n",
    "        duration = end_sec - start_sec\n",
    "        audio_source_offset = start_sec\n",
    "        try:\n",
    "            audio_data = recognizer.record(audio_source, duration=duration)\n",
    "            recognized_text = recognizer.recognize_google(audio_data, language=\"id-ID\")\n",
    "\n",
    "            subtitle = srt.Subtitle(\n",
    "                index=idx + 1,\n",
    "                start=datetime.timedelta(seconds=start_sec),\n",
    "                end=datetime.timedelta(seconds=end_sec),\n",
    "                content=recognized_text\n",
    "            )\n",
    "            subtitles.append(subtitle)\n",
    "            print(f\"Subtitle {idx + 1} berhasil: {recognized_text}\")\n",
    "        except sr.UnknownValueError:\n",
    "            print(f\"Subtitle {idx + 1} tidak dapat dikenali (kosong atau noise)\")\n",
    "        except Exception as e:\n",
    "            print(f\"Error pada segmen {idx + 1}: {e}\")"
   ]
  },
  {
   "cell_type": "code",
   "execution_count": 15,
   "id": "1847e2df-caa8-48ef-b4b7-2d4bd679eddb",
   "metadata": {},
   "outputs": [],
   "source": [
    "with open(\"output_subtitle.srt\", \"w\", encoding=\"utf-8\") as subtitle_file:\n",
    "    subtitle_file.write(srt.compose(subtitles))"
   ]
  }
 ],
 "metadata": {
  "kernelspec": {
   "display_name": "Python 3 (ipykernel)",
   "language": "python",
   "name": "python3"
  },
  "language_info": {
   "codemirror_mode": {
    "name": "ipython",
    "version": 3
   },
   "file_extension": ".py",
   "mimetype": "text/x-python",
   "name": "python",
   "nbconvert_exporter": "python",
   "pygments_lexer": "ipython3",
   "version": "3.11.4"
  }
 },
 "nbformat": 4,
 "nbformat_minor": 5
}
